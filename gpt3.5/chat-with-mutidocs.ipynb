{
 "cells": [
  {
   "cell_type": "code",
   "execution_count": 2,
   "metadata": {
    "id": "tTc3W3yeQkdU"
   },
   "outputs": [],
   "source": [
    "# !pip install -r /content/requirements.txt"
   ]
  },
  {
   "cell_type": "code",
   "execution_count": 4,
   "metadata": {
    "id": "iYIMl5SsQ2jt"
   },
   "outputs": [],
   "source": [
    "from langchain.document_loaders import PyPDFLoader\n",
    "from langchain.document_loaders import TextLoader\n",
    "from langchain.text_splitter import CharacterTextSplitter\n",
    "from langchain.document_loaders import UnstructuredFileLoader\n",
    "from langchain.vectorstores.faiss import FAISS\n",
    "from langchain.embeddings import OpenAIEmbeddings\n",
    "import pickle\n",
    "import os"
   ]
  },
  {
   "cell_type": "code",
   "execution_count": 1,
   "metadata": {
    "id": "ieKR_k2ETssT"
   },
   "outputs": [
    {
     "ename": "NameError",
     "evalue": "name 'os' is not defined",
     "output_type": "error",
     "traceback": [
      "\u001b[0;31m---------------------------------------------------------------------------\u001b[0m",
      "\u001b[0;31mNameError\u001b[0m                                 Traceback (most recent call last)",
      "Cell \u001b[0;32mIn[1], line 1\u001b[0m\n\u001b[0;32m----> 1\u001b[0m os\u001b[38;5;241m.\u001b[39menviron[\u001b[38;5;124m\"\u001b[39m\u001b[38;5;124mOPENAI_API_KEY\u001b[39m\u001b[38;5;124m\"\u001b[39m]\u001b[38;5;241m=\u001b[39m\u001b[38;5;124m\"\u001b[39m\u001b[38;5;124m\"\u001b[39m\n",
      "\u001b[0;31mNameError\u001b[0m: name 'os' is not defined"
     ]
    }
   ],
   "source": [
    "os.environ[\"OPENAI_API_KEY\"]=\"\"\n"
   ]
  },
  {
   "cell_type": "code",
   "execution_count": 12,
   "metadata": {
    "colab": {
     "base_uri": "https://localhost:8080/"
    },
    "id": "bDy1-XqARl3M",
    "outputId": "85c98c61-4d88-427b-e84e-94108918b085"
   },
   "outputs": [
    {
     "name": "stdout",
     "output_type": "stream",
     "text": [
      "/content/drive/MyDrive/XML_data/state_of_the_union.txt\n",
      "/content/drive/MyDrive/XML_data/langchain.pdf\n"
     ]
    }
   ],
   "source": [
    "path=\"/content/drive/MyDrive/XML_data\"\n",
    "document=[]\n",
    "for file in os.listdir(path):\n",
    "  if file.endswith(\".pdf\"):\n",
    "    pdf_path=\"/content/drive/MyDrive/XML_data/\"+file\n",
    "    print(pdf_path)\n",
    "    loader=PyPDFLoader(pdf_path)\n",
    "    document.extend(loader.load())\n",
    "  elif file.endswith('.txt'):\n",
    "    text_path=\"/content/drive/MyDrive/XML_data/\"+file\n",
    "    print(text_path)\n",
    "    loader=TextLoader(text_path)\n",
    "    document.extend(loader.load())"
   ]
  },
  {
   "cell_type": "code",
   "execution_count": 13,
   "metadata": {
    "id": "eU-oU6wUSS1Q"
   },
   "outputs": [],
   "source": [
    "document_splitter=CharacterTextSplitter(separator='\\n',\n",
    "                                        chunk_size=500,\n",
    "                                        chunk_overlap=100)"
   ]
  },
  {
   "cell_type": "code",
   "execution_count": 14,
   "metadata": {
    "id": "MR8uOwVRS3LL"
   },
   "outputs": [],
   "source": [
    "document_chunks=document_splitter.split_documents(document)\n"
   ]
  },
  {
   "cell_type": "code",
   "execution_count": 15,
   "metadata": {
    "colab": {
     "base_uri": "https://localhost:8080/"
    },
    "id": "oAxkIX8YTA5y",
    "outputId": "825908cb-db88-4047-df06-ed0876402dab"
   },
   "outputs": [
    {
     "name": "stdout",
     "output_type": "stream",
     "text": [
      "Creating vectorstore...\n",
      "sommmmmmmmmmmmm\n",
      "done\n"
     ]
    }
   ],
   "source": [
    "DB_FAISS_PATH = \"vectorstore\"\n",
    "print(\"Creating vectorstore...\")\n",
    "embeddings = OpenAIEmbeddings()\n",
    "print(\"sommmmmmmmmmmmm\")\n",
    "vectorstore = FAISS.from_documents(document_chunks, embeddings)\n",
    "\n",
    "vectorstore.save_local(DB_FAISS_PATH)\n",
    "print(\"done\")"
   ]
  },
  {
   "cell_type": "code",
   "execution_count": 16,
   "metadata": {
    "id": "bQx9SgqaTcXs"
   },
   "outputs": [],
   "source": [
    "from langchain.chains import RetrievalQA, ConversationalRetrievalChain\n",
    "from langchain.prompts.prompt import PromptTemplate\n",
    "from langchain.vectorstores.base import VectorStoreRetriever\n",
    "from langchain.chat_models import ChatOpenAI\n",
    "from langchain.vectorstores import FAISS\n",
    "from langchain.memory import ConversationBufferMemory\n",
    "import pickle\n",
    "import sys"
   ]
  },
  {
   "cell_type": "code",
   "execution_count": 17,
   "metadata": {
    "id": "cBeleW0gUUEi"
   },
   "outputs": [],
   "source": [
    "def load_retriever():\n",
    "    retriever = FAISS.load_local(\"/content/vectorstore\", embeddings)\n",
    "    return retriever\n",
    "def get_basic_qa_chain():\n",
    "    llm = ChatOpenAI(model_name=\"gpt-3.5-turbo\", temperature=0)\n",
    "    retriever = load_retriever()\n",
    "    memory = ConversationBufferMemory(\n",
    "        memory_key=\"chat_history\", return_messages=True)\n",
    "    model = ConversationalRetrievalChain.from_llm(\n",
    "        llm=llm,\n",
    "        retriever=retriever.as_retriever(),verbose=False,\n",
    "        memory=memory)\n",
    "    return model"
   ]
  },
  {
   "cell_type": "code",
   "execution_count": 18,
   "metadata": {
    "colab": {
     "base_uri": "https://localhost:8080/"
    },
    "id": "WU3ihFylUeI2",
    "outputId": "bb7f98a8-2aad-4ff2-ce30-8aad24cae2fd"
   },
   "outputs": [
    {
     "name": "stderr",
     "output_type": "stream",
     "text": [
      "/usr/local/lib/python3.10/dist-packages/langchain_core/_api/deprecation.py:117: LangChainDeprecationWarning: The class `langchain_community.chat_models.openai.ChatOpenAI` was deprecated in langchain-community 0.0.10 and will be removed in 0.2.0. An updated version of the class exists in the langchain-openai package and should be used instead. To use it run `pip install -U langchain-openai` and import as `from langchain_openai import ChatOpenAI`.\n",
      "  warn_deprecated(\n",
      "/usr/local/lib/python3.10/dist-packages/langchain_core/_api/deprecation.py:117: LangChainDeprecationWarning: The function `__call__` was deprecated in LangChain 0.1.0 and will be removed in 0.2.0. Use invoke instead.\n",
      "  warn_deprecated(\n"
     ]
    },
    {
     "name": "stdout",
     "output_type": "stream",
     "text": [
      "The President mentioned that Ketanji Brown Jackson is one of the nation's top legal minds who will continue Justice Breyer's legacy of excellence. He highlighted her background as a former top litigator in private practice, a former federal public defender, and coming from a family of public school educators and police officers. He also mentioned that since her nomination, she has received broad support from various groups, including the Fraternal Order of Police and former judges appointed by Democrats and Republicans.\n"
     ]
    }
   ],
   "source": [
    "chain=get_basic_qa_chain()\n",
    "output = chain({\"question\":\"What did the president say about Ketanji Brown Jackson\"})\n",
    "print(output['answer'])"
   ]
  },
  {
   "cell_type": "code",
   "execution_count": 25,
   "metadata": {
    "colab": {
     "base_uri": "https://localhost:8080/"
    },
    "id": "aUFWggMAUlNl",
    "outputId": "b171d01e-1225-4a8b-e886-255f747401a9"
   },
   "outputs": [
    {
     "name": "stdout",
     "output_type": "stream",
     "text": [
      "1. Marcius is portrayed as a fierce and determined warrior, willing to fight even when injured, as seen when he insists on continuing to fight despite bleeding and exhaustion. This showcases his unwavering dedication to his cause and his resilience in the face of physical challenges.\n",
      "\n",
      "2. Marcius is shown to have a complex character, as he struggles with feelings of envy towards his rival, Tullus Aufidius, despite recognizing his noble qualities. This internal conflict adds depth to his character and highlights the internal struggles he faces while navigating the political and military landscape.\n"
     ]
    }
   ],
   "source": [
    "chain=get_basic_qa_chain()\n",
    "output = chain({\"question\":\"Give me two interesting point about MARCIUS\"})\n",
    "print(output['answer'])"
   ]
  },
  {
   "cell_type": "code",
   "execution_count": 26,
   "metadata": {
    "colab": {
     "base_uri": "https://localhost:8080/"
    },
    "id": "umOmZ7EVU6iz",
    "outputId": "db2e74cb-1287-4da0-c07e-f0dfb13b7e28"
   },
   "outputs": [
    {
     "name": "stdout",
     "output_type": "stream",
     "text": [
      "The speaker in the provided context strongly supports Ukraine and its people in their fight against Russian aggression. The speaker emphasizes the courage, determination, and fearlessness of the Ukrainian people and calls for solidarity with Ukraine in the face of the ongoing conflict.\n"
     ]
    }
   ],
   "source": [
    "chain=get_basic_qa_chain()\n",
    "output = chain({\"question\":\"What was his stance on Ukraine?\"})\n",
    "print(output['answer'])"
   ]
  },
  {
   "cell_type": "code",
   "execution_count": 28,
   "metadata": {
    "colab": {
     "base_uri": "https://localhost:8080/"
    },
    "id": "Fh76SKvNWNRl",
    "outputId": "af4db979-1a4c-44d7-d5e6-256d8a2b99cd"
   },
   "outputs": [
    {
     "name": "stdout",
     "output_type": "stream",
     "text": [
      "The First Senator is a character in the play or text being referenced. The role of the First Senator is likely to be a member of the Senate or a political figure involved in the governance of the state or city mentioned in the text.\n"
     ]
    }
   ],
   "source": [
    "chain=get_basic_qa_chain()\n",
    "output = chain({\"question\":\"who is First Senator? and what is the role \"})\n",
    "print(output['answer'])"
   ]
  },
  {
   "cell_type": "code",
   "execution_count": null,
   "metadata": {
    "id": "14h_zu74XE0Z"
   },
   "outputs": [],
   "source": []
  }
 ],
 "metadata": {
  "colab": {
   "provenance": []
  },
  "kernelspec": {
   "display_name": "Python 3 (ipykernel)",
   "language": "python",
   "name": "python3"
  },
  "language_info": {
   "codemirror_mode": {
    "name": "ipython",
    "version": 3
   },
   "file_extension": ".py",
   "mimetype": "text/x-python",
   "name": "python",
   "nbconvert_exporter": "python",
   "pygments_lexer": "ipython3",
   "version": "3.11.5"
  }
 },
 "nbformat": 4,
 "nbformat_minor": 4
}
